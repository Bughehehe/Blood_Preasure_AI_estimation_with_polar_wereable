{
 "cells": [
  {
   "cell_type": "code",
   "execution_count": 5,
   "metadata": {},
   "outputs": [
    {
     "name": "stdout",
     "output_type": "stream",
     "text": [
      "Number of columns in the dataframe: 742\n"
     ]
    },
    {
     "ename": "NameError",
     "evalue": "name 'errors' is not defined",
     "output_type": "error",
     "traceback": [
      "\u001b[0;31m---------------------------------------------------------------------------\u001b[0m",
      "\u001b[0;31mNameError\u001b[0m                                 Traceback (most recent call last)",
      "Cell \u001b[0;32mIn[5], line 29\u001b[0m\n\u001b[1;32m     26\u001b[0m     mae_scores \u001b[38;5;241m=\u001b[39m pickle\u001b[38;5;241m.\u001b[39mload(f)\n\u001b[1;32m     28\u001b[0m \u001b[38;5;66;03m# Calculate the percentage of predictions with errors less than 5, 10, and 15\u001b[39;00m\n\u001b[0;32m---> 29\u001b[0m error_magnitude \u001b[38;5;241m=\u001b[39m np\u001b[38;5;241m.\u001b[39mabs(\u001b[43merrors\u001b[49m)\n\u001b[1;32m     30\u001b[0m less_than_5 \u001b[38;5;241m=\u001b[39m np\u001b[38;5;241m.\u001b[39mmean((error_magnitude \u001b[38;5;241m<\u001b[39m \u001b[38;5;241m5\u001b[39m)\u001b[38;5;241m.\u001b[39mall(axis\u001b[38;5;241m=\u001b[39m\u001b[38;5;241m1\u001b[39m)) \u001b[38;5;241m*\u001b[39m \u001b[38;5;241m100\u001b[39m\n\u001b[1;32m     31\u001b[0m less_than_10 \u001b[38;5;241m=\u001b[39m np\u001b[38;5;241m.\u001b[39mmean((error_magnitude \u001b[38;5;241m<\u001b[39m \u001b[38;5;241m10\u001b[39m)\u001b[38;5;241m.\u001b[39mall(axis\u001b[38;5;241m=\u001b[39m\u001b[38;5;241m1\u001b[39m)) \u001b[38;5;241m*\u001b[39m \u001b[38;5;241m100\u001b[39m\n",
      "\u001b[0;31mNameError\u001b[0m: name 'errors' is not defined"
     ]
    }
   ],
   "source": [
    "import pandas as pd\n",
    "import numpy as np\n",
    "import pickle\n",
    "\n",
    "# Load the scaler\n",
    "with open('scaler.pkl', 'rb') as f:\n",
    "    scaler = pickle.load(f)\n",
    "\n",
    "# Load the CSV file\n",
    "df = pd.read_csv('data_to_model.csv')\n",
    "df = df.drop(columns=[\"Filename\", \"Unnamed: 0\"])\n",
    "df = df.dropna()\n",
    "\n",
    "# Verify the number of columns\n",
    "print(f\"Number of columns in the dataframe: {df.shape[1]}\")\n",
    "\n",
    "# Features and target separation\n",
    "X = df.iloc[:, :-2].values  # First 740 columns as features\n",
    "y = df.iloc[:, -2:].values  # Last 2 columns as targets\n",
    "\n",
    "# Scale the features\n",
    "X = scaler.transform(X)\n",
    "\n",
    "# Load the MAE scores\n",
    "with open('mae_scores.pkl', 'rb') as f:\n",
    "    mae_scores = pickle.load(f)\n",
    "\n",
    "# Calculate the percentage of predictions with errors less than 5, 10, and 15\n",
    "error_magnitude = np.abs(errors)\n",
    "less_than_5 = np.mean((error_magnitude < 5).all(axis=1)) * 100\n",
    "less_than_10 = np.mean((error_magnitude < 10).all(axis=1)) * 100\n",
    "less_than_15 = np.mean((error_magnitude < 15).all(axis=1)) * 100\n",
    "\n",
    "# Calculate and display mean MAE and standard deviation of MAE\n",
    "mean_mae = np.mean(mae_scores)\n",
    "std_mae = np.std(mae_scores)\n",
    "\n",
    "print(\"MAE for each fold:\")\n",
    "for fold_num, mae in enumerate(mae_scores, 1):\n",
    "    print(f\"Fold {fold_num}: MAE = {mae:.3f}\")\n",
    "\n",
    "print(f\"\\nAverage MAE: {mean_mae:.3f}\")\n",
    "print(f\"Standard Deviation of MAE: {std_mae:.3f}\")\n",
    "\n",
    "print(f\"\\nPercentage of predictions with error less than 5: {less_than_5:.2f}%\")\n",
    "print(f\"Percentage of predictions with error less than 10: {less_than_10:.2f}%\")\n",
    "print(f\"Percentage of predictions with error less than 15: {less_than_15:.2f}%\")\n"
   ]
  }
 ],
 "metadata": {
  "kernelspec": {
   "display_name": ".venv",
   "language": "python",
   "name": "python3"
  },
  "language_info": {
   "codemirror_mode": {
    "name": "ipython",
    "version": 3
   },
   "file_extension": ".py",
   "mimetype": "text/x-python",
   "name": "python",
   "nbconvert_exporter": "python",
   "pygments_lexer": "ipython3",
   "version": "3.10.12"
  }
 },
 "nbformat": 4,
 "nbformat_minor": 2
}
